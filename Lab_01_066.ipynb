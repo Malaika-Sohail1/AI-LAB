{
  "nbformat": 4,
  "nbformat_minor": 0,
  "metadata": {
    "colab": {
      "provenance": []
    },
    "kernelspec": {
      "name": "python3",
      "display_name": "Python 3"
    },
    "language_info": {
      "name": "python"
    }
  },
  "cells": [
    {
      "cell_type": "code",
      "execution_count": null,
      "metadata": {
        "id": "AWAck6j2wqrR"
      },
      "outputs": [],
      "source": []
    },
    {
      "cell_type": "markdown",
      "source": [
        "#Activity 01"
      ],
      "metadata": {
        "id": "7A-dEFUpwsK2"
      }
    },
    {
      "cell_type": "code",
      "source": [
        "n = int(input (\"Enter a number: \"))\n",
        "if n % 2 == 0:\n",
        "    print(\"The given number is even\")\n",
        "else:\n",
        "    print(\"The given number is odd\")"
      ],
      "metadata": {
        "colab": {
          "base_uri": "https://localhost:8080/"
        },
        "id": "S0CTF34jwwEV",
        "outputId": "f66eabd3-0831-490a-965d-33fa65807fbf"
      },
      "execution_count": 6,
      "outputs": [
        {
          "output_type": "stream",
          "name": "stdout",
          "text": [
            "Enter a number: 2\n",
            "The given number is even\n"
          ]
        }
      ]
    },
    {
      "cell_type": "markdown",
      "source": [
        "#Activity 02"
      ],
      "metadata": {
        "id": "nbPripjYxBWl"
      }
    },
    {
      "cell_type": "code",
      "source": [
        "summ=0\n",
        "s=int(input(\"Enter an integer value: \"))\n",
        "\n",
        "\n",
        "while s!=0:\n",
        "  summ=summ+s\n",
        "  s=int(input(\"Enter an integer value: \"))\n",
        "\n",
        "print(summ)"
      ],
      "metadata": {
        "colab": {
          "base_uri": "https://localhost:8080/"
        },
        "id": "8g0-fdQExGQk",
        "outputId": "fe3e0c80-ebda-43c6-8a0e-102824b60e83"
      },
      "execution_count": 7,
      "outputs": [
        {
          "output_type": "stream",
          "name": "stdout",
          "text": [
            "Enter an integer value: 1\n",
            "Enter an integer value: 2\n",
            "Enter an integer value: 3\n",
            "Enter an integer value: 0\n",
            "6\n"
          ]
        }
      ]
    },
    {
      "cell_type": "markdown",
      "source": [
        "#Activity 3"
      ],
      "metadata": {
        "id": "qm9hjbt1z3nP"
      }
    },
    {
      "cell_type": "code",
      "source": [
        "from re import I\n",
        "primeno=True\n",
        "i=2\n",
        "n=int(input(\"Enter a number: \"))\n",
        "\n",
        "while i<n:\n",
        "  remainder=n%i\n",
        "  if remainder==0:\n",
        "    primeno=False\n",
        "    break\n",
        "\n",
        "  else:\n",
        "    i=i+1\n",
        "\n",
        "if primeno:\n",
        "  print(\"Number is prime\")\n",
        "\n",
        "else:\n",
        "  print(\"Number is not prime\")"
      ],
      "metadata": {
        "colab": {
          "base_uri": "https://localhost:8080/"
        },
        "id": "9J8z4cCO0Dpl",
        "outputId": "ca92f8e6-ffd1-4157-8c9e-eb8f8329fbe3"
      },
      "execution_count": 10,
      "outputs": [
        {
          "output_type": "stream",
          "name": "stdout",
          "text": [
            "Enter a number: 3\n",
            "Number is prime\n"
          ]
        }
      ]
    },
    {
      "cell_type": "markdown",
      "source": [
        "#Activity 4"
      ],
      "metadata": {
        "id": "LU3cbcUA2_9U"
      }
    },
    {
      "cell_type": "code",
      "source": [
        "i=0\n",
        "summ=0\n",
        "while i<5:\n",
        "  n=int(input(\"Enter 5 numbers: \"))\n",
        "  summ=summ+n\n",
        "  i=i+1\n",
        "\n",
        "print(\"sum is : \",summ)\n"
      ],
      "metadata": {
        "colab": {
          "base_uri": "https://localhost:8080/"
        },
        "id": "FirwD3tH3Dz7",
        "outputId": "49ae609c-0d49-4917-a235-fae11995614b"
      },
      "execution_count": 12,
      "outputs": [
        {
          "output_type": "stream",
          "name": "stdout",
          "text": [
            "Enter 5 numbers: 1\n",
            "Enter 5 numbers: 2\n",
            "Enter 5 numbers: 3\n",
            "Enter 5 numbers: 4\n",
            "Enter 5 numbers: 5\n",
            "sum is :  15\n"
          ]
        }
      ]
    },
    {
      "cell_type": "markdown",
      "source": [
        "#Activity 5"
      ],
      "metadata": {
        "id": "u5ShTeVqzOCK"
      }
    },
    {
      "cell_type": "code",
      "source": [
        "summation=0\n",
        "i=1\n",
        "while i<=10:\n",
        "  summation=summation+i\n",
        "  i=i+1\n",
        "\n",
        "print (\"sum is \",summation)"
      ],
      "metadata": {
        "colab": {
          "base_uri": "https://localhost:8080/"
        },
        "id": "9kCFFglKzQ6J",
        "outputId": "97f77621-0c88-4f5a-d716-6e8037322607"
      },
      "execution_count": 9,
      "outputs": [
        {
          "output_type": "stream",
          "name": "stdout",
          "text": [
            "sum is  55\n"
          ]
        }
      ]
    },
    {
      "cell_type": "markdown",
      "source": [
        "#Activity 5(other option)"
      ],
      "metadata": {
        "id": "X2mBMLZ-yDrc"
      }
    },
    {
      "cell_type": "code",
      "source": [
        "n=int(input(\"Enter a number: \"))\n",
        "print(\"sum {}\".format(n*(n+1)/2))"
      ],
      "metadata": {
        "colab": {
          "base_uri": "https://localhost:8080/"
        },
        "id": "v0ydy_bkyF1y",
        "outputId": "83174aef-57a7-4a96-f171-c5aea1f67afb"
      },
      "execution_count": 5,
      "outputs": [
        {
          "output_type": "stream",
          "name": "stdout",
          "text": [
            "Enter a number: 3\n",
            "sum 6.0\n"
          ]
        }
      ]
    },
    {
      "cell_type": "markdown",
      "source": [
        "#Activity 7"
      ],
      "metadata": {
        "id": "HXPNVbV72tRs"
      }
    },
    {
      "cell_type": "code",
      "source": [
        "import random\n",
        "\n",
        "# Awroken\n",
        "\n",
        "MINIMUM = 1\n",
        "MAXIMUM = 9\n",
        "NUMBER = random.randint(MINIMUM, MAXIMUM)\n",
        "GUESS = None\n",
        "TRY = 0\n",
        "RUNNING = True\n",
        "\n",
        "print(\"Alright...\")\n",
        "\n",
        "while RUNNING:\n",
        "    GUESS = input(\"What is your lucky number? \")  # Changed raw_input to input for Python 3\n",
        "\n",
        "    if GUESS.lower() == \"exit\":  # Moved exit check before int conversion\n",
        "        print(\"Better luck next time.\")\n",
        "        break\n",
        "\n",
        "    if not GUESS.isdigit():  # Ensure input is a valid number\n",
        "        print(\"Please enter a valid number.\")\n",
        "        continue\n",
        "\n",
        "    GUESS = int(GUESS)\n",
        "\n",
        "    if GUESS < NUMBER:\n",
        "        print(\"Wrong, too low.\")\n",
        "    elif GUESS > NUMBER:\n",
        "        print(\"Wrong, too high.\")\n",
        "    elif GUESS == NUMBER:\n",
        "        print(\"Yes, that's the one, %s.\" % str(NUMBER))\n",
        "        if TRY < 2:\n",
        "            print(\"Impressive, only %s tries.\" % str(TRY))\n",
        "        elif 2 <= TRY < 10:\n",
        "            print(\"Pretty good, %s tries.\" % str(TRY))\n",
        "        else:\n",
        "            print(\"Bad, %s tries.\" % str(TRY))\n",
        "        RUNNING = False  # Stop the loop\n",
        "    TRY += 1\n"
      ],
      "metadata": {
        "colab": {
          "base_uri": "https://localhost:8080/"
        },
        "id": "PIY9tj6Z2uzT",
        "outputId": "c5e3fa5a-b775-4baa-8464-966f15e5cd2e"
      },
      "execution_count": 11,
      "outputs": [
        {
          "output_type": "stream",
          "name": "stdout",
          "text": [
            "Alright...\n",
            "What is your lucky number? 4\n",
            "Wrong, too low.\n",
            "What is your lucky number? 1\n",
            "Wrong, too low.\n",
            "What is your lucky number? 2\n",
            "Wrong, too low.\n",
            "What is your lucky number? 5\n",
            "Wrong, too low.\n",
            "What is your lucky number? 9\n",
            "Yes, that's the one, 9.\n",
            "Pretty good, 4 tries.\n"
          ]
        }
      ]
    },
    {
      "cell_type": "markdown",
      "source": [
        "#Lab Task 1"
      ],
      "metadata": {
        "id": "oROOfFI53t_j"
      }
    },
    {
      "cell_type": "code",
      "source": [
        "\n",
        "num = int(input(\"Enter an integer: \"))\n",
        "reverse= 0\n",
        "\n",
        "while num != 0:\n",
        "    digit = num % 10\n",
        "    reverse = reverse* 10 + digit\n",
        "    num //= 10\n",
        "\n",
        "print(\"Reversed number:\", reverse)\n"
      ],
      "metadata": {
        "colab": {
          "base_uri": "https://localhost:8080/"
        },
        "id": "XcHoVIpw3zTC",
        "outputId": "27266c27-0012-4706-e650-5e5864d33c3f"
      },
      "execution_count": 13,
      "outputs": [
        {
          "output_type": "stream",
          "name": "stdout",
          "text": [
            "Enter an integer: 45\n",
            "Reversed number: 54\n"
          ]
        }
      ]
    },
    {
      "cell_type": "markdown",
      "source": [
        "#Lab Task 2"
      ],
      "metadata": {
        "id": "dEk-5Z3p5B_K"
      }
    },
    {
      "cell_type": "code",
      "source": [
        "numbers=[1,2,3,4,5,6]\n",
        "even=0\n",
        "odd=0\n",
        "for num in numbers:\n",
        "  if num%2==0:\n",
        "    even=even+num\n",
        "\n",
        "  else:\n",
        "    odd=odd+num\n",
        "print(\"Sum of even numbers is \",even)\n",
        "print(\"Sum of odd numbers is \",odd)"
      ],
      "metadata": {
        "colab": {
          "base_uri": "https://localhost:8080/"
        },
        "id": "z1Xe48eO5FKR",
        "outputId": "acf804e5-1fb4-4af8-ddbd-5a245f8de143"
      },
      "execution_count": 14,
      "outputs": [
        {
          "output_type": "stream",
          "name": "stdout",
          "text": [
            "Sum of even numbers is  12\n",
            "Sum of odd numbers is  9\n"
          ]
        }
      ]
    },
    {
      "cell_type": "markdown",
      "source": [
        "#Lab Task 3 (Iterative)\n"
      ],
      "metadata": {
        "id": "QxykXocJ7Eko"
      }
    },
    {
      "cell_type": "code",
      "source": [
        "def fibonacci(n):\n",
        "    a, b = 0, 1\n",
        "    for _ in range(n):\n",
        "        print(a, end=\" \")\n",
        "        a, b = b, a + b\n",
        "\n",
        "num_terms = int(input(\"Enter the number of terms: \"))\n",
        "print(\"Fibonacci series is:\")\n",
        "fibonacci(num_terms)\n"
      ],
      "metadata": {
        "colab": {
          "base_uri": "https://localhost:8080/"
        },
        "id": "NM-VGax57Gpu",
        "outputId": "babf9200-b174-4634-dbbe-a83e710e6f70"
      },
      "execution_count": 15,
      "outputs": [
        {
          "output_type": "stream",
          "name": "stdout",
          "text": [
            "Enter the number of terms: 3\n",
            "Iterative Fibonacci series:\n",
            "0 1 1 "
          ]
        }
      ]
    },
    {
      "cell_type": "markdown",
      "source": [
        "#Lab Task 3 (Recursive)"
      ],
      "metadata": {
        "id": "p5mBebSj785I"
      }
    },
    {
      "cell_type": "code",
      "source": [
        "def fibonacci(n, a=0, b=1):\n",
        "    if n > 0:\n",
        "        print(a, end=\" \")\n",
        "        fibonacci(n - 1, b, a + b)\n",
        "\n",
        "print(\"\\nFibonacci series is: \")\n",
        "fibonacci(num_terms)\n"
      ],
      "metadata": {
        "colab": {
          "base_uri": "https://localhost:8080/"
        },
        "id": "VEgh219n8A8P",
        "outputId": "e7c0bddc-310d-4ae0-bc9d-f8ce67ddebe3"
      },
      "execution_count": 16,
      "outputs": [
        {
          "output_type": "stream",
          "name": "stdout",
          "text": [
            "\n",
            "Fibonacci series is: \n",
            "0 1 1 "
          ]
        }
      ]
    },
    {
      "cell_type": "markdown",
      "source": [
        "#Lab Task 4\n"
      ],
      "metadata": {
        "id": "7hpgqSKj8kJo"
      }
    },
    {
      "cell_type": "code",
      "source": [
        "marks = int(input(\"Enter marks (1-100): \"))\n",
        "\n",
        "if marks < 50:\n",
        "    print(\"F\")\n",
        "elif 50 <= marks <= 60:\n",
        "    print(\"E\")\n",
        "elif 61 <= marks <= 70:\n",
        "    print(\"D\")\n",
        "elif 71 <= marks <= 80:\n",
        "    print(\"C\")\n",
        "elif 81 <= marks <= 90:\n",
        "    print(\"B\")\n",
        "elif 91 <= marks <= 100:\n",
        "    print(\"A\")\n",
        "else:\n",
        "    print(\"Invalid marks\")\n"
      ],
      "metadata": {
        "colab": {
          "base_uri": "https://localhost:8080/"
        },
        "id": "VfYYGZfh8l1e",
        "outputId": "79c1c77e-1d03-4791-83a2-6f0b89b512bf"
      },
      "execution_count": 17,
      "outputs": [
        {
          "output_type": "stream",
          "name": "stdout",
          "text": [
            "Enter marks (1-100): 30\n",
            "F\n"
          ]
        }
      ]
    },
    {
      "cell_type": "markdown",
      "source": [
        "#Lab Task 5"
      ],
      "metadata": {
        "id": "P3z1HQpG9Ma3"
      }
    },
    {
      "cell_type": "code",
      "source": [
        "num = int(input(\"Enter a number: \"))\n",
        "\n",
        "factorial = 1\n",
        "for i in range(1, num + 1):\n",
        "    factorial *= i\n",
        "\n",
        "print(\"Factorial of\", num, \"is\", factorial)\n"
      ],
      "metadata": {
        "colab": {
          "base_uri": "https://localhost:8080/"
        },
        "id": "uwjHruGc9Oo9",
        "outputId": "5d932425-0556-431d-8e0f-489611b8d41d"
      },
      "execution_count": 18,
      "outputs": [
        {
          "output_type": "stream",
          "name": "stdout",
          "text": [
            "Enter a number: 4\n",
            "Factorial of 4 is 24\n"
          ]
        }
      ]
    },
    {
      "cell_type": "markdown",
      "source": [],
      "metadata": {
        "id": "fl4fP19m9XG_"
      }
    }
  ]
}