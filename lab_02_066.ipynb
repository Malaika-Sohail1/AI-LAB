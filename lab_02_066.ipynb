{
  "nbformat": 4,
  "nbformat_minor": 0,
  "metadata": {
    "colab": {
      "provenance": []
    },
    "kernelspec": {
      "name": "python3",
      "display_name": "Python 3"
    },
    "language_info": {
      "name": "python"
    }
  },
  "cells": [
    {
      "cell_type": "code",
      "execution_count": null,
      "metadata": {
        "id": "sgby75fz90v-"
      },
      "outputs": [],
      "source": []
    },
    {
      "cell_type": "markdown",
      "source": [
        "#Activity 1"
      ],
      "metadata": {
        "id": "-wDXKWki9682"
      }
    },
    {
      "cell_type": "code",
      "source": [
        "myList1 = []\n",
        "print(\"Enter objects of first list...\")\n",
        "for i in range(5):\n",
        "    val = input(\"Enter a value:\")\n",
        "    n = int(val)\n",
        "    myList1.append(n)\n",
        "\n",
        "myList2 = []\n",
        "print(\"Enter objects of second list...\")\n",
        "for i in range(5):\n",
        "    val = input(\"Enter a value:\")\n",
        "    n = int(val)\n",
        "    myList2.append(n)\n",
        "\n",
        "list3 = myList1 + myList2\n",
        "print(list3)\n"
      ],
      "metadata": {
        "colab": {
          "base_uri": "https://localhost:8080/"
        },
        "id": "gNs0Kovy_VKs",
        "outputId": "346c162e-fc91-463e-8e60-8799ef0b734d"
      },
      "execution_count": 1,
      "outputs": [
        {
          "output_type": "stream",
          "name": "stdout",
          "text": [
            "Enter objects of first list...\n",
            "Enter a value:2\n",
            "Enter a value:4\n",
            "Enter a value:5\n",
            "Enter a value:6\n",
            "Enter a value:7\n",
            "Enter objects of second list...\n",
            "Enter a value:5\n",
            "Enter a value:7\n",
            "Enter a value:8\n",
            "Enter a value:9\n",
            "Enter a value:2\n",
            "[2, 4, 5, 6, 7, 5, 7, 8, 9, 2]\n"
          ]
        }
      ]
    },
    {
      "cell_type": "markdown",
      "source": [
        "#Activity 2"
      ],
      "metadata": {
        "id": "qjkyvSje_iHM"
      }
    },
    {
      "cell_type": "code",
      "source": [
        "def isPalindrome(word):\n",
        "    temp = word[::-1]\n",
        "    if temp.capitalize() == word.capitalize():\n",
        "        return True\n",
        "    else:\n",
        "        return False\n",
        "\n",
        "print(isPalindrome(\"need\"))\n"
      ],
      "metadata": {
        "colab": {
          "base_uri": "https://localhost:8080/"
        },
        "id": "sp5RE8i9_jer",
        "outputId": "07e8cee8-4172-4c27-f9c1-9d0efa656047"
      },
      "execution_count": 3,
      "outputs": [
        {
          "output_type": "stream",
          "name": "stdout",
          "text": [
            "False\n"
          ]
        }
      ]
    },
    {
      "cell_type": "markdown",
      "source": [
        "#Activity 3"
      ],
      "metadata": {
        "id": "DxUv4seq_wq8"
      }
    },
    {
      "cell_type": "code",
      "source": [
        "a = [[1, 0, 0], [0, 1, 0], [0, 0, 1]]\n",
        "b = [[1, 2, 3], [4, 5, 6], [7, 8, 9]]\n",
        "\n",
        "c = []\n",
        "\n",
        "for indrow in range(3):\n",
        "    c.append([])\n",
        "    for indcol in range(3):\n",
        "        c[indrow].append(0)\n",
        "        for indaux in range(3):\n",
        "            c[indrow][indcol] += a[indrow][indaux] * b[indaux][indcol]\n",
        "\n",
        "print(c)\n"
      ],
      "metadata": {
        "colab": {
          "base_uri": "https://localhost:8080/"
        },
        "id": "np6uR5MA_xyL",
        "outputId": "d9eaa41b-e2eb-4b28-cf3b-0cfc143a8315"
      },
      "execution_count": 4,
      "outputs": [
        {
          "output_type": "stream",
          "name": "stdout",
          "text": [
            "[[1, 2, 3], [4, 5, 6], [7, 8, 9]]\n"
          ]
        }
      ]
    },
    {
      "cell_type": "markdown",
      "source": [
        "#Activity 4"
      ],
      "metadata": {
        "id": "ceqzGXNg_96E"
      }
    },
    {
      "cell_type": "code",
      "source": [
        "def perimeter(listing):\n",
        "    leng = len(listing)\n",
        "    perimeter = 0\n",
        "    for i in range(0, leng - 1):\n",
        "        dist = (((listing[i][0] - listing[i + 1][0]) ** 2) +\n",
        "                ((listing[i][1] - listing[i + 1][1]) ** 2)) ** 0.5\n",
        "        perimeter = perimeter + dist\n",
        "    perimeter = perimeter + (((listing[0][0] - listing[leng - 1][0]) ** 2) +\n",
        "                             ((listing[0][1] - listing[leng - 1][1]) ** 2)) ** 0.5\n",
        "    return perimeter\n",
        "\n",
        "L = [(1,3), (2,7), (3,9), (-1,8)]\n",
        "print(perimeter(L))\n"
      ],
      "metadata": {
        "colab": {
          "base_uri": "https://localhost:8080/"
        },
        "id": "Irh7-BQa__CL",
        "outputId": "63355107-78ce-4c76-9505-766b0117045b"
      },
      "execution_count": 5,
      "outputs": [
        {
          "output_type": "stream",
          "name": "stdout",
          "text": [
            "15.867444035869614\n"
          ]
        }
      ]
    },
    {
      "cell_type": "markdown",
      "source": [
        "#Activity 5"
      ],
      "metadata": {
        "id": "Mz8ohu-uAQZ0"
      }
    },
    {
      "cell_type": "code",
      "source": [
        "def symbDiff(a, b):\n",
        "    e = set()\n",
        "    for i in a:\n",
        "        if i not in b:\n",
        "            e.add(i)\n",
        "    for i in b:\n",
        "        if i not in a:\n",
        "            e.add(i)\n",
        "    return e\n",
        "\n",
        "set1 = {0, 1, 2, 4, 5}\n",
        "set2 = {4, 5, 7, 8, 9}\n",
        "print(symbDiff(set1, set2))\n",
        "\n",
        "\n",
        "print(set1.symmetric_difference(set2))\n",
        "print(set2.symmetric_difference(set1))\n",
        "print(set1 ^ set2)\n",
        "print(set2 ^ set1)\n"
      ],
      "metadata": {
        "colab": {
          "base_uri": "https://localhost:8080/"
        },
        "id": "PG5lm3dPAR97",
        "outputId": "709c8a61-da13-407d-fac9-e5e42a2a2c84"
      },
      "execution_count": 6,
      "outputs": [
        {
          "output_type": "stream",
          "name": "stdout",
          "text": [
            "{0, 1, 2, 7, 8, 9}\n",
            "{0, 1, 2, 7, 8, 9}\n",
            "{0, 1, 2, 7, 8, 9}\n",
            "{0, 1, 2, 7, 8, 9}\n",
            "{0, 1, 2, 7, 8, 9}\n"
          ]
        }
      ]
    },
    {
      "cell_type": "markdown",
      "source": [
        "#Activity 6"
      ],
      "metadata": {
        "id": "RBmeR7eUAaYs"
      }
    },
    {
      "cell_type": "code",
      "source": [
        "sample = {(\"sohaib\", \"ali\"): \"0246585468445\",\n",
        "          (\"aib\", \"li\"): \"02465854645\",\n",
        "          (\"sib\", \"ai\"): \"0246585468445\"}\n",
        "\n",
        "firstName = input(\"enter first name: \")\n",
        "lastName = input(\"enter last name: \")\n",
        "\n",
        "searchTuple = (firstName, lastName)\n",
        "if searchTuple in sample:\n",
        "    print(sample[searchTuple])\n",
        "else:\n",
        "    print(\"name not found\")\n"
      ],
      "metadata": {
        "colab": {
          "base_uri": "https://localhost:8080/"
        },
        "id": "MlCb4VqxAb1r",
        "outputId": "d62672d9-2046-40d7-9b62-7788b25bb8d5"
      },
      "execution_count": 7,
      "outputs": [
        {
          "output_type": "stream",
          "name": "stdout",
          "text": [
            "enter first name: Malaika\n",
            "enter last name: sohail\n",
            "name not found\n"
          ]
        }
      ]
    },
    {
      "cell_type": "markdown",
      "source": [
        "#Lab Task 1"
      ],
      "metadata": {
        "id": "5izBlbDjAzab"
      }
    },
    {
      "cell_type": "code",
      "source": [
        "list1 = []\n",
        "n1 = int(input(\"Enter the number of elements for the first list: \"))\n",
        "for i in range(n1):\n",
        "    val = int(input(f\"Enter element {i+1}: \"))\n",
        "    list1.append(val)\n",
        "\n",
        "list2 = []\n",
        "n2 = int(input(\"Enter the number of elements for the second list: \"))\n",
        "for i in range(n2):\n",
        "    val = int(input(f\"Enter element {i+1}: \"))\n",
        "    list2.append(val)\n",
        "\n",
        "merged_list = list1 + list2\n",
        "\n",
        "merged_list.sort()\n",
        "\n",
        "print(\"Sorted Merged List:\", merged_list)\n"
      ],
      "metadata": {
        "id": "E-k42SmuA4cK"
      },
      "execution_count": null,
      "outputs": []
    },
    {
      "cell_type": "markdown",
      "source": [
        "#Lab Task 2"
      ],
      "metadata": {
        "id": "Y7l8AwzWCkVS"
      }
    },
    {
      "cell_type": "code",
      "source": [
        "list1 = []\n",
        "n1 = int(input(\"Enter the number of elements for the first list: \"))\n",
        "for i in range(n1):\n",
        "    val = int(input(f\"Enter element {i+1}: \"))\n",
        "    list1.append(val)\n",
        "\n",
        "list2 = []\n",
        "n2 = int(input(\"Enter the number of elements for the second list: \"))\n",
        "for i in range(n2):\n",
        "    val = int(input(f\"Enter element {i+1}: \"))\n",
        "    list2.append(val)\n",
        "\n",
        "merged_list = list1 + list2\n",
        "merged_list.sort()\n",
        "\n",
        "smallest = merged_list[0]\n",
        "largest = merged_list[-1]\n",
        "\n",
        "print(\"Sorted Merged List:\", merged_list)\n",
        "print(\"Smallest Element:\", smallest)\n",
        "print(\"Largest Element:\", largest)\n"
      ],
      "metadata": {
        "colab": {
          "base_uri": "https://localhost:8080/"
        },
        "id": "cUsOM6AECmp4",
        "outputId": "125a7790-39aa-42e1-eb19-1ac0e3174123"
      },
      "execution_count": 8,
      "outputs": [
        {
          "output_type": "stream",
          "name": "stdout",
          "text": [
            "Enter the number of elements for the first list: 3\n",
            "Enter element 1: 1\n",
            "Enter element 2: 2\n",
            "Enter element 3: 3\n",
            "Enter the number of elements for the second list: 1\n",
            "Enter element 1: 2\n",
            "Sorted Merged List: [1, 2, 2, 3]\n",
            "Smallest Element: 1\n",
            "Largest Element: 3\n"
          ]
        }
      ]
    },
    {
      "cell_type": "markdown",
      "source": [
        "#Lab Task 3"
      ],
      "metadata": {
        "id": "bY4SiXsACrFZ"
      }
    },
    {
      "cell_type": "code",
      "source": [
        "from math import *\n",
        "\n",
        "h = 0.001  # Small increment\n",
        "x_values = [i for i in frange(-pi, pi, h)]  # Generating x values from -pi to pi with step h\n",
        "\n",
        "print(f\"{'x':>10} {'Approximated f\\'(x)':>25} {'cos(x)':>25}\")\n",
        "\n",
        "for x in x_values:\n",
        "    derivative_approx = (sin(x + h) - sin(x)) / h\n",
        "    actual_cos_x = cos(x)\n",
        "    print(f\"{x:10.5f} {derivative_approx:25.5f} {actual_cos_x:25.5f}\")\n"
      ],
      "metadata": {
        "id": "Hvp9pMbwCtTY"
      },
      "execution_count": null,
      "outputs": []
    },
    {
      "cell_type": "markdown",
      "source": [
        "#Lab Task 4"
      ],
      "metadata": {
        "id": "wSue1y48C6Wg"
      }
    },
    {
      "cell_type": "code",
      "source": [
        "birthdays = {\n",
        "    \"Albert Einstein\": \"03/14/1879\",\n",
        "    \"Benjamin Franklin\": \"01/17/1706\",\n",
        "    \"Ada Lovelace\": \"12/10/1815\"\n",
        "}\n",
        "\n",
        "print(\"Welcome to the birthday dictionary. We know the birthdays of:\")\n",
        "for name in birthdays:\n",
        "    print(name)\n",
        "\n",
        "name = input(\"Who's birthday do you want to look up?\\n\")\n",
        "\n",
        "if name in birthdays:\n",
        "    print(f\"{name}'s birthday is {birthdays[name]}.\")\n",
        "else:\n",
        "    print(\"Sorry, we don't have the birthday information for that person.\")\n"
      ],
      "metadata": {
        "colab": {
          "base_uri": "https://localhost:8080/"
        },
        "id": "mUxTAL2PC79X",
        "outputId": "53275140-e467-425a-b5e4-04e2635fa25e"
      },
      "execution_count": 9,
      "outputs": [
        {
          "output_type": "stream",
          "name": "stdout",
          "text": [
            "Welcome to the birthday dictionary. We know the birthdays of:\n",
            "Albert Einstein\n",
            "Benjamin Franklin\n",
            "Ada Lovelace\n",
            "Who's birthday do you want to look up?\n",
            "ada lovelace\n",
            "Sorry, we don't have the birthday information for that person.\n"
          ]
        }
      ]
    },
    {
      "cell_type": "markdown",
      "source": [
        "#Lab Task 5"
      ],
      "metadata": {
        "id": "ltgN1CEiDKvX"
      }
    },
    {
      "cell_type": "code",
      "source": [
        "sample_dict = {\n",
        "    \"name\": \"Kelly\",\n",
        "    \"age\": 25,\n",
        "    \"salary\": 8000,\n",
        "    \"city\": \"New York\"\n",
        "}\n",
        "\n",
        "keys = [\"name\", \"salary\"]\n",
        "\n",
        "new_dict = {key: sample_dict[key] for key in keys}\n",
        "\n",
        "print(new_dict)\n"
      ],
      "metadata": {
        "colab": {
          "base_uri": "https://localhost:8080/"
        },
        "id": "b-n8qXBSDReG",
        "outputId": "af0e3667-68b5-4b53-c080-c48c36f67ebd"
      },
      "execution_count": 10,
      "outputs": [
        {
          "output_type": "stream",
          "name": "stdout",
          "text": [
            "{'name': 'Kelly', 'salary': 8000}\n"
          ]
        }
      ]
    }
  ]
}